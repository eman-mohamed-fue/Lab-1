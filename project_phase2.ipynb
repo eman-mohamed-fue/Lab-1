{
  "cells": [
    {
      "cell_type": "markdown",
      "metadata": {
        "id": "view-in-github",
        "colab_type": "text"
      },
      "source": [
        "<a href=\"https://colab.research.google.com/github/eman-mohamed-fue/Lab-1/blob/main/project_phase2.ipynb\" target=\"_parent\"><img src=\"https://colab.research.google.com/assets/colab-badge.svg\" alt=\"Open In Colab\"/></a>"
      ]
    },
    {
      "cell_type": "code",
      "execution_count": null,
      "metadata": {
        "id": "iBleaT4iarRw"
      },
      "outputs": [],
      "source": [
        "import pandas as pd\n",
        "from sklearn.model_selection import train_test_split\n",
        "from sklearn.tree import DecisionTreeClassifier\n",
        "from sklearn.preprocessing import LabelEncoder, StandardScaler\n",
        "from sklearn.metrics import accuracy_score\n",
        "import matplotlib.pyplot as plt\n",
        "from sklearn.feature_selection import chi2\n",
        "from sklearn.feature_selection import SelectKBest"
      ]
    },
    {
      "cell_type": "code",
      "execution_count": null,
      "metadata": {
        "id": "sq0y7gdV_cRi"
      },
      "outputs": [],
      "source": [
        "# Step 1: Load the dataset\n",
        "data = pd.read_csv(\"Crop_recommendation.csv\")"
      ]
    },
    {
      "cell_type": "code",
      "execution_count": null,
      "metadata": {
        "colab": {
          "base_uri": "https://localhost:8080/"
        },
        "id": "_200KPMV_fVE",
        "outputId": "c0aaf83e-2cb3-449a-ceaf-e8d544610199"
      },
      "outputs": [
        {
          "name": "stdout",
          "output_type": "stream",
          "text": [
            "    N   P   K  temperature   humidity        ph    rainfall label\n",
            "0  90  42  43    20.879744  82.002744  6.502985  202.935536  rice\n",
            "1  85  58  41    21.770462  80.319644  7.038096  226.655537  rice\n",
            "2  60  55  44    23.004459  82.320763  7.840207  263.964248  rice\n",
            "3  74  35  40    26.491096  80.158363  6.980401  242.864034  rice\n",
            "4  78  42  42    20.130175  81.604873  7.628473  262.717340  rice\n",
            "Index(['N', 'P', 'K', 'temperature', 'humidity', 'ph', 'rainfall', 'label'], dtype='object')\n"
          ]
        }
      ],
      "source": [
        "# Display the head\n",
        "print(data.head())\n",
        "print(data.columns)"
      ]
    },
    {
      "cell_type": "code",
      "execution_count": null,
      "metadata": {
        "colab": {
          "base_uri": "https://localhost:8080/"
        },
        "id": "yvzEXpv__fmK",
        "outputId": "e0fd72d1-2a2d-4670-8267-9fd25359d61e"
      },
      "outputs": [
        {
          "name": "stdout",
          "output_type": "stream",
          "text": [
            "N              0\n",
            "P              0\n",
            "K              0\n",
            "temperature    0\n",
            "humidity       0\n",
            "ph             0\n",
            "rainfall       0\n",
            "label          0\n",
            "dtype: int64\n"
          ]
        }
      ],
      "source": [
        "# Step 2: Data Cleaning\n",
        "# Check for missing values\n",
        "print(data.isnull().sum())\n",
        "# Drop the missing values\n",
        "data.dropna(inplace=True)  # Example: dropping rows with missing values\n"
      ]
    },
    {
      "cell_type": "code",
      "execution_count": null,
      "metadata": {
        "id": "T918UtXi_lqU"
      },
      "outputs": [],
      "source": [
        "# Step 3: Data Preprocessing\n",
        "# Label encoding for the categorical column\n",
        "label_encoder = LabelEncoder()\n",
        "data['label'] = label_encoder.fit_transform(data['label'])\n"
      ]
    },
    {
      "cell_type": "code",
      "execution_count": null,
      "metadata": {
        "id": "2GxftV_U_nxF"
      },
      "outputs": [],
      "source": [
        "# # Checking if there are any negative values of X before scaling\n",
        "# print(\"Minimum values of X before scaling:\")\n",
        "# print(X.min())\n",
        "\n",
        "# Scaling numerical columns\n",
        "scaler = StandardScaler()\n",
        "numerical_cols = ['N', 'P', 'K', 'temperature', 'humidity', 'ph', 'rainfall']\n",
        "data[numerical_cols] = scaler.fit_transform(data[numerical_cols])\n",
        "\n",
        "# # Checking if there are any negative values of X after scaling\n",
        "# print(\"Minimum values of X after scaling:\")\n",
        "# print(X.min())"
      ]
    },
    {
      "cell_type": "code",
      "execution_count": null,
      "metadata": {
        "id": "1tD9W75E_qJE"
      },
      "outputs": [],
      "source": [
        "# Step 4: Split the dataset\n",
        "X = data.drop('label', axis=1)\n",
        "y = data['label']\n",
        "X_train, X_test, y_train, y_test = train_test_split(X, y, test_size=0.2, random_state=42)"
      ]
    },
    {
      "cell_type": "code",
      "execution_count": null,
      "metadata": {
        "id": "rtKm5rx1_sI6"
      },
      "outputs": [],
      "source": [
        "# Step 5: Train Decision Tree Models with different max_depth values\n",
        "max_depths = range(1, 11)\n",
        "accuracies = []\n",
        "\n",
        "for max_depth in max_depths:\n",
        "    model = DecisionTreeClassifier(max_depth=max_depth)\n",
        "    model.fit(X_train, y_train)\n",
        "    y_pred = model.predict(X_test)\n",
        "    accuracy = accuracy_score(y_test, y_pred)\n",
        "    accuracies.append(accuracy)"
      ]
    },
    {
      "cell_type": "code",
      "execution_count": null,
      "metadata": {
        "colab": {
          "base_uri": "https://localhost:8080/",
          "height": 472
        },
        "id": "0czDc4vy_sPf",
        "outputId": "a1693b59-8a55-4220-bb5f-d93423440358"
      },
      "outputs": [
        {
          "data": {
            "image/png": "[encoded data removed]",
            "text/plain": [
              "<Figure size 640x480 with 1 Axes>"
            ]
          },
          "metadata": {},
          "output_type": "display_data"
        }
      ],
      "source": [
        "# Step 6: Plotting the results\n",
        "plt.plot(max_depths, accuracies)\n",
        "plt.xlabel('Max Depth')\n",
        "plt.ylabel('Accuracy Score')\n",
        "plt.title('Max Depth vs Accuracy Score')\n",
        "plt.show()"
      ]
    },
    {
      "cell_type": "code",
      "execution_count": null,
      "metadata": {
        "colab": {
          "base_uri": "https://localhost:8080/"
        },
        "id": "XA5fpTAs_wKm",
        "outputId": "35eb55f9-9a28-4c88-b26b-3fb709832ab1"
      },
      "outputs": [
        {
          "name": "stdout",
          "output_type": "stream",
          "text": [
            "Final model accuracy with max_depth = 10: 0.9886363636363636\n"
          ]
        }
      ],
      "source": [
        "# Train the final Decision Tree model with max_depth = 10\n",
        "final_model = DecisionTreeClassifier(max_depth=10)\n",
        "final_model.fit(X_train, y_train)\n",
        "\n",
        "# Evaluate the model on the test data\n",
        "y_final_pred = final_model.predict(X_test)\n",
        "final_accuracy = accuracy_score(y_test, y_final_pred)\n",
        "print(f\"Final model accuracy with max_depth = 10: {final_accuracy}\")"
      ]
    },
    {
      "cell_type": "code",
      "execution_count": null,
      "metadata": {
        "colab": {
          "base_uri": "https://localhost:8080/"
        },
        "id": "rfZeBdSY_yTi",
        "outputId": "4dcdbf04-de97-4e5e-bcbf-375867af4aca"
      },
      "outputs": [
        {
          "name": "stdout",
          "output_type": "stream",
          "text": [
            "Negative values found in X. Transforming negative values to non-negative.\n",
            "Selected features based on Chi-Square test: Index(['N', 'P', 'K', 'temperature', 'humidity', 'ph', 'rainfall'], dtype='object')\n"
          ]
        }
      ],
      "source": [
        "# Step 7: Feature Selection using Chi-Square test\n",
        "# Checking for negative values in X\n",
        "if (X < 0).any().any():\n",
        "    print(\"Negative values found in X. Transforming negative values to non-negative.\")\n",
        "    # Transform negative values by adding a constant (e.g., abs(min(X.min())) + 1)\n",
        "    X = X + abs(X.min()) + 1\n",
        "# Applying the Chi-Square test\n",
        "chi2_values, p_values = chi2(X, y)\n",
        "feature_selection = SelectKBest(chi2, k='all').fit(X, y)\n",
        "selected_features = feature_selection.get_support(indices=True)\n",
        "print(\"Selected features based on Chi-Square test:\", X.columns[selected_features])"
      ]
    },
    {
      "cell_type": "markdown",
      "metadata": {
        "id": "6uSd3nUq0z9S"
      },
      "source": [
        "### Import PyTorch Libraries"
      ]
    },
    {
      "cell_type": "code",
      "execution_count": null,
      "metadata": {
        "id": "mC7km-bo0z9U"
      },
      "outputs": [],
      "source": [
        "#Sara"
      ]
    },
    {
      "cell_type": "markdown",
      "metadata": {
        "id": "_ru70M0x0z9U"
      },
      "source": [
        "### Define the ANN Model"
      ]
    },
    {
      "cell_type": "code",
      "execution_count": null,
      "metadata": {
        "id": "uJ1OAf2p0z9U"
      },
      "outputs": [],
      "source": [
        "#Sara"
      ]
    },
    {
      "cell_type": "markdown",
      "metadata": {
        "id": "fi4FVaq40z9U"
      },
      "source": [
        "### Prepare Data for PyTorch"
      ]
    },
    {
      "cell_type": "code",
      "execution_count": null,
      "metadata": {
        "id": "iH9VAN8H0z9U"
      },
      "outputs": [],
      "source": [
        "#Shimaa"
      ]
    },
    {
      "cell_type": "markdown",
      "metadata": {
        "id": "5MthjCAE0z9U"
      },
      "source": [
        "### Cross-Validation Setup"
      ]
    },
    {
      "cell_type": "code",
      "execution_count": null,
      "metadata": {
        "id": "xXNn_O4m0z9U"
      },
      "outputs": [],
      "source": [
        "#Shimaa\n",
        "\n",
        "# Convert data to PyTorch tensors\n",
        "X_tensor = torch.tensor(X_train.values, dtype=torch.float32)\n",
        "y_tensor = torch.tensor(y_train.values, dtype=torch.long) # CrossEntropyLoss expects long type for labels\n",
        "X_test_tensor = torch.tensor(X_test.values, dtype=torch.float32)\n",
        "y_test_tensor = torch.tensor(y_test.values, dtype=torch.long)\n",
        "\n",
        "# Create TensorDataset and DataLoader for batching (optional for full batch training, but good practice )\n",
        "train_dataset = TensorDataset(X_tensor, y_tensor)\n",
        "train_loader = DataLoader(train_dataset, batch_size=64, shuffle=True)\n"
      ]
    },
    {
      "cell_type": "markdown",
      "metadata": {
        "id": "1He9kMIM0z9V"
      },
      "source": [
        "### Training and Evaluation with Cross-Validation"
      ]
    },
    {
      "cell_type": "code",
      "execution_count": null,
      "metadata": {
        "id": "xqK7EZIk0z9V",
        "outputId": "305fc97f-402d-4a29-de89-3cdbb72aab96"
      },
      "outputs": [
        {
          "name": "stdout",
          "output_type": "stream",
          "text": [
            "--- Fold 1 ---\n",
            "Validation Accuracy: 0.9744, Precision: 0.9751, Recall: 0.9744, F1-score: 0.9745\n",
            "--- Fold 2 ---\n",
            "Validation Accuracy: 0.9744, Precision: 0.9751, Recall: 0.9744, F1-score: 0.9745\n",
            "--- Fold 2 ---\n",
            "Validation Accuracy: 0.9886, Precision: 0.9900, Recall: 0.9886, F1-score: 0.9884\n",
            "--- Fold 3 ---\n",
            "Validation Accuracy: 0.9886, Precision: 0.9900, Recall: 0.9886, F1-score: 0.9884\n",
            "--- Fold 3 ---\n",
            "Validation Accuracy: 0.9858, Precision: 0.9864, Recall: 0.9858, F1-score: 0.9859\n",
            "--- Fold 4 ---\n",
            "Validation Accuracy: 0.9858, Precision: 0.9864, Recall: 0.9858, F1-score: 0.9859\n",
            "--- Fold 4 ---\n",
            "Validation Accuracy: 0.9830, Precision: 0.9835, Recall: 0.9830, F1-score: 0.9831\n",
            "--- Fold 5 ---\n",
            "Validation Accuracy: 0.9830, Precision: 0.9835, Recall: 0.9830, F1-score: 0.9831\n",
            "--- Fold 5 ---\n",
            "Validation Accuracy: 0.9659, Precision: 0.9697, Recall: 0.9659, F1-score: 0.9653\n",
            "\n",
            "Cross-validation results:\n",
            "{'fold': 1, 'accuracy': 0.9744318181818182, 'precision': 0.9750896697667032, 'recall': 0.9744318181818182, 'f1_score': 0.9745208032708033}\n",
            "{'fold': 2, 'accuracy': 0.9886363636363636, 'precision': 0.990031452922078, 'recall': 0.9886363636363636, 'f1_score': 0.9884418001353484}\n",
            "{'fold': 3, 'accuracy': 0.9857954545454546, 'precision': 0.9863616497139224, 'recall': 0.9857954545454546, 'f1_score': 0.9858937240623287}\n",
            "{'fold': 4, 'accuracy': 0.9829545454545454, 'precision': 0.9835273186409551, 'recall': 0.9829545454545454, 'f1_score': 0.9830771750414606}\n",
            "{'fold': 5, 'accuracy': 0.9659090909090909, 'precision': 0.9696836582563129, 'recall': 0.9659090909090909, 'f1_score': 0.9653387220483757}\n",
            "Validation Accuracy: 0.9659, Precision: 0.9697, Recall: 0.9659, F1-score: 0.9653\n",
            "\n",
            "Cross-validation results:\n",
            "{'fold': 1, 'accuracy': 0.9744318181818182, 'precision': 0.9750896697667032, 'recall': 0.9744318181818182, 'f1_score': 0.9745208032708033}\n",
            "{'fold': 2, 'accuracy': 0.9886363636363636, 'precision': 0.990031452922078, 'recall': 0.9886363636363636, 'f1_score': 0.9884418001353484}\n",
            "{'fold': 3, 'accuracy': 0.9857954545454546, 'precision': 0.9863616497139224, 'recall': 0.9857954545454546, 'f1_score': 0.9858937240623287}\n",
            "{'fold': 4, 'accuracy': 0.9829545454545454, 'precision': 0.9835273186409551, 'recall': 0.9829545454545454, 'f1_score': 0.9830771750414606}\n",
            "{'fold': 5, 'accuracy': 0.9659090909090909, 'precision': 0.9696836582563129, 'recall': 0.9659090909090909, 'f1_score': 0.9653387220483757}\n"
          ]
        }
      ],
      "source": [
        "#Maryam and Farah"
      ]
    },
    {
      "cell_type": "markdown",
      "metadata": {
        "id": "svgNylHh0z9V"
      },
      "source": [
        "### Final Model Training (Optional - on full training data)"
      ]
    },
    {
      "cell_type": "code",
      "execution_count": null,
      "metadata": {
        "id": "5n5RcVHL0z9V",
        "outputId": "cb057c8a-03ac-4c2f-b801-8161b633dbdc"
      },
      "outputs": [
        {
          "name": "stdout",
          "output_type": "stream",
          "text": [
            "\n",
            "Training final model on the entire training dataset...\n",
            "Epoch [10/50], Loss: 0.3609\n",
            "Epoch [10/50], Loss: 0.3609\n",
            "Epoch [20/50], Loss: 0.1020\n",
            "Epoch [20/50], Loss: 0.1020\n",
            "Epoch [30/50], Loss: 0.1053\n",
            "Epoch [30/50], Loss: 0.1053\n",
            "Epoch [40/50], Loss: 0.0339\n",
            "Epoch [40/50], Loss: 0.0339\n",
            "Epoch [50/50], Loss: 0.0247\n",
            "Epoch [50/50], Loss: 0.0247\n"
          ]
        }
      ],
      "source": [
        "#Maryam and Farah"
      ]
    },
    {
      "cell_type": "markdown",
      "metadata": {
        "id": "pCpAACP90z9V"
      },
      "source": [
        "### Evaluate Final Model on Test Data"
      ]
    },
    {
      "cell_type": "code",
      "execution_count": null,
      "metadata": {
        "id": "KQHyDfla0z9V",
        "outputId": "680e4b6c-13b4-48d1-8d56-b6aa424a1982"
      },
      "outputs": [
        {
          "name": "stdout",
          "output_type": "stream",
          "text": [
            "\n",
            "Final Model Performance on Test Data:\n",
            "Accuracy: 0.9750\n",
            "Precision: 0.9777\n",
            "Recall: 0.9750\n",
            "F1-score: 0.9754\n"
          ]
        }
      ],
      "source": [
        "#Eman"
      ]
    }
  ],
  "metadata": {
    "colab": {
      "provenance": [],
      "include_colab_link": true
    },
    "kernelspec": {
      "display_name": "Python 3",
      "name": "python3"
    },
    "language_info": {
      "codemirror_mode": {
        "name": "ipython",
        "version": 3
      },
      "file_extension": ".py",
      "mimetype": "text/x-python",
      "name": "python",
      "nbconvert_exporter": "python",
      "pygments_lexer": "ipython3",
      "version": "3.11.1"
    }
  },
  "nbformat": 4,
  "nbformat_minor": 0
}