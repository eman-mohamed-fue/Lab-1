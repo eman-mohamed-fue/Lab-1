{
 "nbformat": 4,
 "nbformat_minor": 0,
 "metadata": {
  "colab": {
   "provenance": [],
   "include_colab_link": true
  },
  "kernelspec": {
   "name": "python3",
   "display_name": "Python 3"
  },
  "language_info": {
   "name": "python"
  }
 },
 "cells": [
  {
   "cell_type": "markdown",
   "metadata": {
    "id": "view-in-github",
    "colab_type": "text"
   },
   "source": [
    "<a href=\"https://colab.research.google.com/github/farahashrafFUE/projrct-phase1-classification/blob/main/project_phas1.ipynb\" target=\"_parent\"><img src=\"https://colab.research.google.com/assets/colab-badge.svg\" alt=\"Open In Colab\"/></a>"
   ]
  },
  {
   "cell_type": "code",
   "metadata": {
    "id": "iBleaT4iarRw",
    "jupyter": {
     "is_executing": true
    }
   },
   "source": [
    "import pandas as pd\n",
    "from sklearn.model_selection import train_test_split\n",
    "from sklearn.tree import DecisionTreeClassifier\n",
    "from sklearn.preprocessing import LabelEncoder, StandardScaler\n",
    "from sklearn.metrics import accuracy_score\n",
    "import matplotlib.pyplot as plt\n",
    "from sklearn.feature_selection import chi2\n",
    "from sklearn.feature_selection import SelectKBest"
   ],
   "outputs": [],
   "execution_count": null
  },
  {
   "cell_type": "code",
   "source": [
    "# Step 1: Load the dataset\n",
    "data = pd.read_csv(\"Crop_recommendation.csv\")"
   ],
   "metadata": {
    "id": "sq0y7gdV_cRi"
   },
   "execution_count": null,
   "outputs": []
  },
  {
   "cell_type": "code",
   "source": [
    "# Display the head\n",
    "print(data.head())   #print the first 5 records\n",
    "print(data.columns) #print the columns of the dataset"
   ],
   "metadata": {
    "id": "_200KPMV_fVE",
    "outputId": "c0aaf83e-2cb3-449a-ceaf-e8d544610199",
    "colab": {
     "base_uri": "https://localhost:8080/"
    }
   },
   "execution_count": null,
   "outputs": [
    {
     "output_type": "stream",
     "name": "stdout",
     "text": [
      "    N   P   K  temperature   humidity        ph    rainfall label\n",
      "0  90  42  43    20.879744  82.002744  6.502985  202.935536  rice\n",
      "1  85  58  41    21.770462  80.319644  7.038096  226.655537  rice\n",
      "2  60  55  44    23.004459  82.320763  7.840207  263.964248  rice\n",
      "3  74  35  40    26.491096  80.158363  6.980401  242.864034  rice\n",
      "4  78  42  42    20.130175  81.604873  7.628473  262.717340  rice\n",
      "Index(['N', 'P', 'K', 'temperature', 'humidity', 'ph', 'rainfall', 'label'], dtype='object')\n"
     ]
    }
   ]
  },
  {
   "cell_type": "code",
   "source": [
    "# Step 2: Data Cleaning\n",
    "# Check for missing values\n",
    "print(data.isnull().sum())\n",
    "# Drop the missing values\n",
    "data.dropna(inplace=True)  # Example: dropping rows with missing values\n"
   ],
   "metadata": {
    "id": "yvzEXpv__fmK",
    "outputId": "e0fd72d1-2a2d-4670-8267-9fd25359d61e",
    "colab": {
     "base_uri": "https://localhost:8080/"
    }
   },
   "execution_count": null,
   "outputs": [
    {
     "output_type": "stream",
     "name": "stdout",
     "text": [
      "N              0\n",
      "P              0\n",
      "K              0\n",
      "temperature    0\n",
      "humidity       0\n",
      "ph             0\n",
      "rainfall       0\n",
      "label          0\n",
      "dtype: int64\n"
     ]
    }
   ]
  },
  {
   "cell_type": "code",
   "source": [
    "# Step 3: Data Preprocessing\n",
    "# Label encoding for the categorical column\n",
    "label_encoder = LabelEncoder()  #convert words to numbers from scikit-learn\n",
    "data['label'] = label_encoder.fit_transform(data['label']) # the only column that has words not numbers that I want to convert is label\n"
   ],
   "metadata": {
    "id": "T918UtXi_lqU"
   },
   "execution_count": null,
   "outputs": []
  },
  {
   "cell_type": "code",
   "source": [
    "# # Checking if there are any negative values of X before scaling\n",
    "# print(\"Minimum values of X before scaling:\")\n",
    "# print(X.min())\n",
    "\n",
    "# Scaling numerical columns for positive values\n",
    "scaler = StandardScaler()\n",
    "numerical_cols = ['N', 'P', 'K', 'temperature', 'humidity', 'ph', 'rainfall']\n",
    "data[numerical_cols] = scaler.fit_transform(data[numerical_cols])\n",
    "\n",
    "# # Checking if there are any negative values of X after scaling\n",
    "# print(\"Minimum values of X after scaling:\")\n",
    "# print(X.min())"
   ],
   "metadata": {
    "id": "2GxftV_U_nxF"
   },
   "execution_count": null,
   "outputs": []
  },
  {
   "cell_type": "code",
   "source": [
    "# Step 4: Split the dataset\n",
    "X = data.drop('label', axis=1)\n",
    "y = data['label']\n",
    "# test_size=0.2: 20% of the data is allocated for testing, while 80% is used for training.\n",
    "# random_state=42: Ensures that the split is reproducible. If you run the code again with the same random_state, you'll get the same split\n",
    "X_train, X_test, y_train, y_test = train_test_split(X, y, test_size=0.2, random_state=42)"
   ],
   "metadata": {
    "id": "1tD9W75E_qJE",
    "jupyter": {
     "is_executing": true
    }
   },
   "outputs": [],
   "execution_count": null
  },
  {
   "cell_type": "code",
   "source": [
    "# Step 5: Train Decision Tree Models with different max_depth values\n",
    "max_depths = range(1, 11)  #random range\n",
    "accuracies = []\n",
    "\n",
    "for max_depth in max_depths:\n",
    "    model = DecisionTreeClassifier(max_depth=max_depth)\n",
    "    model.fit(X_train, y_train)\n",
    "    y_pred = model.predict(X_test)\n",
    "    accuracy = accuracy_score(y_test, y_pred)  #from scikit-learn\n",
    "    accuracies.append(accuracy)"
   ],
   "metadata": {
    "id": "rtKm5rx1_sI6"
   },
   "execution_count": null,
   "outputs": []
  },
  {
   "cell_type": "code",
   "source": [
    "# Step 6: Plotting the results\n",
    "plt.plot(max_depths, accuracies)   #values of max_depths & accuracies\n",
    "plt.xlabel('Max Depth')\n",
    "plt.ylabel('Accuracy Score')\n",
    "plt.title('Max Depth vs Accuracy Score')\n",
    "plt.show()"
   ],
   "metadata": {
    "id": "0czDc4vy_sPf",
    "outputId": "a1693b59-8a55-4220-bb5f-d93423440358",
    "colab": {
     "base_uri": "https://localhost:8080/",
     "height": 472
    }
   },
   "execution_count": null,
   "outputs": [
    {
     "output_type": "display_data",
     "data": {
      "text/plain": [
       "<Figure size 640x480 with 1 Axes>"
      ],
      "image/png": "[encoded data removed]"
     },
     "metadata": {}
    }
   ]
  },
  {
   "cell_type": "code",
   "source": [
    "# Train the final Decision Tree model with max_depth = 10\n",
    "final_model = DecisionTreeClassifier(max_depth=10)\n",
    "final_model.fit(X_train, y_train)\n",
    "\n",
    "# Evaluate the model on the test data\n",
    "y_final_pred = final_model.predict(X_test)\n",
    "final_accuracy = accuracy_score(y_test, y_final_pred)\n",
    "print(f\"Final model accuracy with max_depth = 10: {final_accuracy}\")"
   ],
   "metadata": {
    "id": "XA5fpTAs_wKm",
    "outputId": "35eb55f9-9a28-4c88-b26b-3fb709832ab1",
    "colab": {
     "base_uri": "https://localhost:8080/"
    }
   },
   "execution_count": null,
   "outputs": [
    {
     "output_type": "stream",
     "name": "stdout",
     "text": [
      "Final model accuracy with max_depth = 10: 0.9886363636363636\n",
      "Feature: N, Importance: 0.1446232143669531\n",
      "Feature: P, Importance: 0.25946242133342057\n",
      "Feature: K, Importance: 0.09695737643060384\n",
      "Feature: temperature, Importance: 0.00423917334480084\n",
      "Feature: humidity, Importance: 0.23431514845439044\n",
      "Feature: ph, Importance: 0.007048455527386849\n",
      "Feature: rainfall, Importance: 0.2533542105424444\n"
     ]
    }
   ]
  },
  {
   "cell_type": "code",
   "source": [
    "# Step 7: Feature Selection using Chi-Square test    Chi-Square (χ²)\n",
    "# Checking for negative values in X\n",
    "if (X < 0).any().any():\n",
    "    print(\"Negative values found in X. Transforming negative values to non-negative.\")\n",
    "    # Transform negative values by adding a constant (e.g., abs(min(X.min())) + 1)\n",
    "    X = X + abs(X.min()) + 1\n",
    "    #Its absolute value is added to all features, shifting them to be non-negative\n",
    "    #+1 ensures that the minimum value is at least 1 (avoiding zeros)\n",
    "\n",
    "# Applying the Chi-Square test\n",
    "chi2_values, p_values = chi2(X, y)\n",
    "#Instead of keeping all features (k='all'), it now selects the top K features based on the highest Chi-Square scores\n",
    "feature_selection = SelectKBest(chi2, k='all').fit(X, y) #Selects all features and ranks them using the Chi-Square test\n",
    "selected_features = feature_selection.get_support(indices=True)\n",
    "print(\"Selected features based on Chi-Square test:\", X.columns[selected_features])"
   ],
   "metadata": {
    "id": "rfZeBdSY_yTi",
    "outputId": "4dcdbf04-de97-4e5e-bcbf-375867af4aca",
    "colab": {
     "base_uri": "https://localhost:8080/"
    }
   },
   "execution_count": null,
   "outputs": [
    {
     "output_type": "stream",
     "name": "stdout",
     "text": [
      "Negative values found in X. Transforming negative values to non-negative.\n",
      "Selected features based on Chi-Square test: Index(['N', 'P', 'K', 'temperature', 'humidity', 'ph', 'rainfall'], dtype='object')\n"
     ]
    }
   ]
  }
 ]
}
