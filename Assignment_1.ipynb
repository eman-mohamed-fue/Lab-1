{
  "nbformat": 4,
  "nbformat_minor": 0,
  "metadata": {
    "colab": {
      "provenance": [],
      "authorship_tag": "ABX9TyNfeUyzRKYSIFenhHU+6wuY",
      "include_colab_link": true
    },
    "kernelspec": {
      "name": "python3",
      "display_name": "Python 3"
    },
    "language_info": {
      "name": "python"
    }
  },
  "cells": [
    {
      "cell_type": "markdown",
      "metadata": {
        "id": "view-in-github",
        "colab_type": "text"
      },
      "source": [
        "<a href=\"https://colab.research.google.com/github/eman-mohamed-fue/Lab-1/blob/main/Assignment_1.ipynb\" target=\"_parent\"><img src=\"https://colab.research.google.com/assets/colab-badge.svg\" alt=\"Open In Colab\"/></a>"
      ]
    },
    {
      "cell_type": "code",
      "execution_count": 2,
      "metadata": {
        "colab": {
          "base_uri": "https://localhost:8080/"
        },
        "id": "smZgonLUjI_E",
        "outputId": "e2e46ce0-f9b1-420e-b170-64bbeef67ee8"
      },
      "outputs": [
        {
          "output_type": "stream",
          "name": "stdout",
          "text": [
            "Enter an integer number: 5\n",
            "5 is a prime number\n"
          ]
        }
      ],
      "source": [
        "number = int(input(\"Enter an integer number: \"))\n",
        "\n",
        "if number <= 1:\n",
        "    print(number, \"is not a prime number\")\n",
        "else:\n",
        "    is_prime = True\n",
        "    for i in range(2, number):\n",
        "        if number % i == 0:\n",
        "            is_prime = False\n",
        "            break\n",
        "\n",
        "    if is_prime:\n",
        "        print(number, \"is a prime number\")\n",
        "    else:\n",
        "        print(number, \"is not a prime number\")\n"
      ]
    }
  ]
}